{
 "cells": [
  {
   "cell_type": "markdown",
   "metadata": {},
   "source": [
    "# Probability and Statistics Notes"
   ]
  },
  {
   "cell_type": "markdown",
   "metadata": {},
   "source": [
    "## Statistics Workflow Overview\n",
    "\n",
    "1. Getting **good** data\n",
    "2. Understand how the data is **structured** and **measured**\n",
    "3. **Organize** the data in **comprehensible** forms to find patterns\n",
    "4. **Visualize** the patterns"
   ]
  },
  {
   "cell_type": "markdown",
   "metadata": {},
   "source": [
    "## Information\n",
    "\n",
    "**Dataset**\n",
    "\n",
    "The data set is about basketball players in WNBA (Women's National Basketball Association), and contains general information about players, along with their metrics for the season 2016-2017. The data set was put together by Thomas De Jonghe, and can be downloaded from [Kaggle](https://www.kaggle.com/jinxbe/wnba-player-stats-2017)."
   ]
  },
  {
   "cell_type": "code",
   "execution_count": 8,
   "metadata": {},
   "outputs": [],
   "source": [
    "# import libraries\n",
    "import pandas as pd\n",
    "import matplotlib.pyplot as plt\n",
    "\n",
    "# plots are displayed inline\n",
    "%matplotlib inline "
   ]
  },
  {
   "cell_type": "code",
   "execution_count": 2,
   "metadata": {},
   "outputs": [
    {
     "name": "stdout",
     "output_type": "stream",
     "text": [
      "probability_and_statistics_notes.ipynb\twnba-player-stats-2017.csv\r\n"
     ]
    }
   ],
   "source": [
    "!ls"
   ]
  },
  {
   "cell_type": "code",
   "execution_count": 4,
   "metadata": {},
   "outputs": [],
   "source": [
    "wnba = pd.read_csv('wnba-player-stats-2017.csv')"
   ]
  },
  {
   "cell_type": "code",
   "execution_count": 5,
   "metadata": {},
   "outputs": [
    {
     "data": {
      "text/plain": [
       "(143, 32)"
      ]
     },
     "execution_count": 5,
     "metadata": {},
     "output_type": "execute_result"
    }
   ],
   "source": [
    "wnba.shape"
   ]
  },
  {
   "cell_type": "code",
   "execution_count": 6,
   "metadata": {},
   "outputs": [
    {
     "data": {
      "text/plain": [
       "Index(['Name', 'Team', 'Pos', 'Height', 'Weight', 'BMI', 'Birth_Place',\n",
       "       'Birthdate', 'Age', 'College', 'Experience', 'Games Played', 'MIN',\n",
       "       'FGM', 'FGA', 'FG%', '15:00', '3PA', '3P%', 'FTM', 'FTA', 'FT%', 'OREB',\n",
       "       'DREB', 'REB', 'AST', 'STL', 'BLK', 'TO', 'PTS', 'DD2', 'TD3'],\n",
       "      dtype='object')"
      ]
     },
     "execution_count": 6,
     "metadata": {},
     "output_type": "execute_result"
    }
   ],
   "source": [
    "wnba.columns"
   ]
  },
  {
   "cell_type": "markdown",
   "metadata": {},
   "source": [
    "---"
   ]
  },
  {
   "cell_type": "markdown",
   "metadata": {},
   "source": [
    "## Sampling\n",
    "\n",
    "**Definitions**\n",
    "\n",
    "- **Population**: Set of _all_ individuals relevant to a particular statistical question\n",
    "- **Sample**: A smaller group selected from a population\n",
    "- **Sampling Error**: The difference between population metrics and sample metrics\n",
    "- **Parameter**: A metric specific to a population\n",
    "- **Statistic**: A metric specific to a sample"
   ]
  },
  {
   "cell_type": "code",
   "execution_count": 7,
   "metadata": {},
   "outputs": [
    {
     "name": "stdout",
     "output_type": "stream",
     "text": [
      "Parameter: 32\n",
      "Statistic: 30\n",
      "Sampling error: 2\n"
     ]
    }
   ],
   "source": [
    "# Sampling Error\n",
    "\n",
    "parameter = wnba['Games Played'].max()\n",
    "print('Parameter:', parameter)\n",
    "\n",
    "sample = wnba['Games Played'].sample(30, random_state = 1) # sample 30 players randomly\n",
    "statistic = sample.max()\n",
    "print('Statistic:', statistic)\n",
    "\n",
    "sampling_error = parameter - statistic\n",
    "print('Sampling error:', sampling_error)"
   ]
  },
  {
   "cell_type": "markdown",
   "metadata": {},
   "source": [
    "### Simple Random Sampling\n",
    "\n",
    "When we sample, we want our samples to be **representative** of their corresponding populations. The more representative, the smaller the sampling error. The less representative, the larger the sampling error.\n",
    "\n",
    "- **Simple Random Sampling**: A method of random sampling where random numbers are generated and used to select a few sample units from the population\n",
    "\n",
    "_Notes_\n",
    "\n",
    "The `random_state` parameter makes the generation of random numbers predictable. `Series.sample()` uses a [pseudorandom number generator](https://en.wikipedia.org/wiki/Pseudorandom_number_generator) under the hood. A pseudorandom number generator uses an initial value to generate a sequence of numbers that has properties similar to those of a sequence that is truly random. `random_state` specifies the initial value used by the pseudorandom number generator."
   ]
  },
  {
   "cell_type": "code",
   "execution_count": 17,
   "metadata": {},
   "outputs": [
    {
     "data": {
      "text/plain": [
       "[]"
      ]
     },
     "execution_count": 17,
     "metadata": {},
     "output_type": "execute_result"
    },
    {
     "data": {
      "image/png": "[encoded data removed]",
      "text/plain": [
       "<Figure size 432x288 with 1 Axes>"
      ]
     },
     "metadata": {
      "needs_background": "light"
     },
     "output_type": "display_data"
    }
   ],
   "source": [
    "sample_means = []\n",
    "population_mean = wnba['PTS'].mean()\n",
    "\n",
    "# take 100 samples sampling 10 values from the total points column and taking the mean\n",
    "for i in range(100):\n",
    "    sample = wnba['PTS'].sample(10, random_state=i)\n",
    "    sample_means.append(sample.mean())\n",
    "\n",
    "plt.scatter(range(1, 101), sample_means)\n",
    "plt.axhline(population_mean)\n",
    "plt.xlim(-5, 105)\n",
    "plt.ylim(100, 310)\n",
    "plt.plot()"
   ]
  },
  {
   "cell_type": "code",
   "execution_count": 18,
   "metadata": {},
   "outputs": [
    {
     "data": {
      "text/plain": [
       "[]"
      ]
     },
     "execution_count": 18,
     "metadata": {},
     "output_type": "execute_result"
    },
    {
     "data": {
      "image/png": "[encoded data removed]",
      "text/plain": [
       "<Figure size 432x288 with 1 Axes>"
      ]
     },
     "metadata": {
      "needs_background": "light"
     },
     "output_type": "display_data"
    }
   ],
   "source": [
    "# sample size of 100\n",
    "\n",
    "sample_size = 100\n",
    "sample_means = []\n",
    "population_mean = wnba['PTS'].mean()\n",
    "\n",
    "# take 100 samples sampling 10 values from the total points column and taking the mean\n",
    "for i in range(100):\n",
    "    sample = wnba['PTS'].sample(sample_size, random_state=i)\n",
    "    sample_means.append(sample.mean())\n",
    "\n",
    "plt.scatter(range(1, 101), sample_means)\n",
    "plt.axhline(population_mean)\n",
    "plt.xlim(-5, 105)\n",
    "plt.ylim(100, 310)\n",
    "plt.plot()"
   ]
  },
  {
   "cell_type": "markdown",
   "metadata": {},
   "source": [
    "**Observations**:\n",
    "\n",
    "We observe the sample means vary a lot around the population mean. We also observe the larger the sample size, the more representative the samples are!"
   ]
  },
  {
   "cell_type": "markdown",
   "metadata": {},
   "source": [
    "### Stratified Sampling\n",
    "\n",
    "_Simple Random Sampling_'s random nature results in it leaving out certain population individuals.\n",
    "\n",
    "**Stratified Sampling**: A sampling method which ensures observations for all categories of interest are captured. Each _stratified group_ is known as a **stratum**"
   ]
  },
  {
   "cell_type": "code",
   "execution_count": 21,
   "metadata": {},
   "outputs": [],
   "source": [
    "new_wnba = wnba.copy()"
   ]
  },
  {
   "cell_type": "code",
   "execution_count": 22,
   "metadata": {},
   "outputs": [
    {
     "data": {
      "text/plain": [
       "Index(['Name', 'Team', 'Pos', 'Height', 'Weight', 'BMI', 'Birth_Place',\n",
       "       'Birthdate', 'Age', 'College', 'Experience', 'Games Played', 'MIN',\n",
       "       'FGM', 'FGA', 'FG%', '15:00', '3PA', '3P%', 'FTM', 'FTA', 'FT%', 'OREB',\n",
       "       'DREB', 'REB', 'AST', 'STL', 'BLK', 'TO', 'PTS', 'DD2', 'TD3'],\n",
       "      dtype='object')"
      ]
     },
     "execution_count": 22,
     "metadata": {},
     "output_type": "execute_result"
    }
   ],
   "source": [
    "new_wnba.columns"
   ]
  },
  {
   "cell_type": "code",
   "execution_count": 25,
   "metadata": {},
   "outputs": [
    {
     "name": "stdout",
     "output_type": "stream",
     "text": [
      "Points Per Position: {'F': 8.702175158545568, 'G/F': 6.817264935760487, 'G': 7.092926195632343, 'C': 9.833761394334251, 'F/C': 9.059118773946361}\n",
      "\n",
      "Position with most points: C\n"
     ]
    }
   ],
   "source": [
    "# stratified sampling using player position\n",
    "\n",
    "new_wnba['Points Per Game'] = new_wnba['PTS'] / new_wnba['Games Played']\n",
    "\n",
    "positions = {}\n",
    "for pos in new_wnba['Pos'].unique():\n",
    "    positions[pos] = new_wnba[new_wnba['Pos'] == pos]\n",
    "\n",
    "# Get mean points per game for each stratum\n",
    "points_per_position = {}\n",
    "for position, stratum in positions.items():\n",
    "    sample = stratum.sample(10, random_state=0)\n",
    "    points_per_position[position] = sample['Points Per Game'].mean()\n",
    "    \n",
    "print('Points Per Position:', points_per_position)\n",
    "# get position with most points\n",
    "position_most_points = max(points_per_position, key=points_per_position.get)\n",
    "print('\\nPosition with most points:', position_most_points)"
   ]
  },
  {
   "cell_type": "markdown",
   "metadata": {},
   "source": [
    "### Proportional Stratified Sampling\n",
    "\n",
    "Earlier we computed the mean number of _total points_ a player scores in a season by performing simple random sampling 100 times. The number of total points is influenced by the number of games played:"
   ]
  },
  {
   "cell_type": "code",
   "execution_count": 26,
   "metadata": {},
   "outputs": [
    {
     "name": "stdout",
     "output_type": "stream",
     "text": [
      "(22.0, 32.0]     72.727273\n",
      "(12.0, 22.0]     18.181818\n",
      "(1.969, 12.0]     9.090909\n",
      "Name: Games Played, dtype: float64\n"
     ]
    }
   ],
   "source": [
    "print(wnba['Games Played'].value_counts(bins = 3, normalize=True) * 100)"
   ]
  },
  {
   "cell_type": "markdown",
   "metadata": {},
   "source": [
    "Almost 73% of players had more than 23 games. This group of players would skew the mean of the total games.\n",
    "\n",
    "When we sample randomly, we can end up with a sample where the proportions are different than the population. This may cause our sample metric to underestimate or overestimate the population metric.\n",
    "\n",
    "**Proportional Stratified Sampling**: Stratify data and sample randomly from each stratum a _proportional_ number of observations."
   ]
  },
  {
   "cell_type": "code",
   "execution_count": 28,
   "metadata": {},
   "outputs": [
    {
     "data": {
      "text/plain": [
       "<matplotlib.lines.Line2D at 0x7f418337c198>"
      ]
     },
     "execution_count": 28,
     "metadata": {},
     "output_type": "execute_result"
    },
    {
     "data": {
      "image/png": "[encoded data removed]",
      "text/plain": [
       "<Figure size 432x288 with 1 Axes>"
      ]
     },
     "metadata": {
      "needs_background": "light"
     },
     "output_type": "display_data"
    }
   ],
   "source": [
    "# stratify by games played\n",
    "\n",
    "under_12 = wnba[wnba['Games Played'] <= 12]\n",
    "btw_13_22 = wnba[(wnba['Games Played'] > 12) & (wnba['Games Played'] <= 22)]\n",
    "over_23 = wnba[wnba['Games Played'] > 22]\n",
    "\n",
    "# calculate mean via stratified sampling\n",
    "proportional_sampling_means = []\n",
    "for i in range(100):\n",
    "    sample_under_12 = under_12.sample(1, random_state=i)\n",
    "    sample_btw_13_22 = btw_13_22.sample(2, random_state=i)\n",
    "    sample_over_23 = over_23.sample(7, random_state=i)\n",
    "    final_sample = pd.concat([sample_under_12, sample_btw_13_22, sample_over_23])\n",
    "    proportional_sampling_means.append(final_sample['PTS'].mean())\n",
    "\n",
    "# plot\n",
    "plt.scatter(range(1,101), proportional_sampling_means)\n",
    "plt.xlim(-5, 105)\n",
    "plt.ylim(100, 310)\n",
    "plt.axhline(wnba['PTS'].mean())"
   ]
  },
  {
   "cell_type": "markdown",
   "metadata": {},
   "source": [
    "**Observations**:\n",
    "\n",
    "This approach did not result in any better result than the simple random sampling approach. This is due to a poor choice of strata. We used number of games played to stratify the data. Since a player is considered to have a played a game whether they played for the whole game or a few minutes, this isn't the right metric to use.\n",
    "\n",
    "\n",
    "_Guidelines for choosing good strata_:\n",
    "\n",
    "1. Minimize the variability within each stratum.\n",
    "2. Maximize the variability between strata.\n",
    "3. The stratification criterion should be strongly correlated with the property you're trying to measure.\n"
   ]
  },
  {
   "cell_type": "code",
   "execution_count": 30,
   "metadata": {},
   "outputs": [
    {
     "name": "stdout",
     "output_type": "stream",
     "text": [
      "(347.333, 682.667]    34.965035\n",
      "(10.993, 347.333]     33.566434\n",
      "(682.667, 1018.0]     31.468531\n",
      "Name: MIN, dtype: float64\n"
     ]
    }
   ],
   "source": [
    "print(wnba['MIN'].value_counts(bins = 3, normalize = True) * 100)"
   ]
  },
  {
   "cell_type": "markdown",
   "metadata": {},
   "source": [
    "Let's use number of minutes played to stratify the data:"
   ]
  },
  {
   "cell_type": "code",
   "execution_count": 34,
   "metadata": {},
   "outputs": [
    {
     "data": {
      "text/plain": [
       "[]"
      ]
     },
     "execution_count": 34,
     "metadata": {},
     "output_type": "execute_result"
    },
    {
     "data": {
      "image/png": "[encoded data removed]",
      "text/plain": [
       "<Figure size 432x288 with 1 Axes>"
      ]
     },
     "metadata": {
      "needs_background": "light"
     },
     "output_type": "display_data"
    }
   ],
   "source": [
    "# stratify by minutes played\n",
    "\n",
    "under_348 = wnba[wnba['MIN'] <= 348]\n",
    "btw_349_683 = wnba[(wnba['MIN'] > 348) & (wnba['MIN'] <= 683)]\n",
    "over_683 = wnba[wnba['MIN'] > 683]\n",
    "\n",
    "# calculate proportional sampling mean\n",
    "proportional_sampling_means = []\n",
    "for i in range(100):\n",
    "    sample_under_348 = under_348.sample(10, random_state=i)\n",
    "    sample_btw_349_683 = btw_349_683.sample(10, random_state=i)\n",
    "    sample_over_683 = over_683.sample(10, random_state=i)\n",
    "    final_sample = pd.concat([sample_under_348, sample_btw_349_683, sample_over_683])\n",
    "    proportional_sampling_means.append(final_sample['PTS'].mean())\n",
    "\n",
    "# plot\n",
    "plt.scatter(range(1, 101), proportional_sampling_means)\n",
    "plt.axhline(wnba['PTS'].mean())\n",
    "plt.xlim(-5, 105)\n",
    "plt.ylim(100, 310)\n",
    "plt.plot()"
   ]
  },
  {
   "cell_type": "markdown",
   "metadata": {},
   "source": [
    "**Observations**:\n",
    "\n",
    "Using the right strata choice definitely plays a large role in reducing the variance between the sample metrics and the population metric."
   ]
  },
  {
   "cell_type": "markdown",
   "metadata": {},
   "source": [
    "### Cluster Sampling\n",
    "\n",
    "It is common in the data science workflow that data comes from different sources and collecting it is either too time consuming or close to impossible.\n",
    "\n",
    "**Cluster Sampling**: A sampling method where each data source is kept separate and a few are randomly picked to collect data from. Each picked **cluster** is sampled individually.\n",
    "\n",
    "In our case, we can treat each team as its own cluster:"
   ]
  },
  {
   "cell_type": "code",
   "execution_count": 36,
   "metadata": {},
   "outputs": [
    {
     "name": "stdout",
     "output_type": "stream",
     "text": [
      "['DAL' 'LA' 'CON' 'SAN' 'MIN' 'SEA' 'PHO' 'CHI' 'WAS' 'NY' 'ATL' 'IND']\n"
     ]
    }
   ],
   "source": [
    "print(wnba['Team'].unique())"
   ]
  },
  {
   "cell_type": "code",
   "execution_count": 64,
   "metadata": {},
   "outputs": [
    {
     "name": "stdout",
     "output_type": "stream",
     "text": [
      "The sampling error for Height: -0.06\n",
      "The sampling error for Age   : -1.40\n",
      "The sampling error for BMI   : 0.23\n",
      "The sampling error for PTS   : -27.80\n"
     ]
    }
   ],
   "source": [
    "# simulating cluster sampling via randomly picking 4 clusters\n",
    "\n",
    "four_team_cluster = pd.Series(wnba['Team'].unique()).sample(4, random_state = 0)\n",
    "\n",
    "sample = pd.DataFrame()\n",
    "\n",
    "for team in four_team_cluster:\n",
    "    team_data = wnba[wnba['Team'] == team]\n",
    "    sample = sample.append(team_data)\n",
    "\n",
    "# find sampling errors\n",
    "columns = ['Height', 'Age', 'BMI', 'PTS']\n",
    "\n",
    "for col in columns:\n",
    "    sampling_error = wnba[col].mean() - sample[col].mean()\n",
    "    print(\"The sampling error for {0:<6}: {1:.2f}\".format(col, sampling_error))"
   ]
  },
  {
   "cell_type": "markdown",
   "metadata": {},
   "source": [
    "---"
   ]
  },
  {
   "cell_type": "markdown",
   "metadata": {},
   "source": [
    "### Descriptive and Inferential Statistics\n",
    "\n",
    "When we are doing statistics in practice, our goal is either to:\n",
    "\n",
    "- describe a sample or a population\n",
    "- use a sample to draw conclusions about the population it belongs to\n",
    "\n",
    "**Descriptive Statistics**: When we describe a sample or a population via measuring averages, proportions, and other metrics; by visualizing properties of the data through graphs\n",
    "\n",
    "**Inferential statistics**: When we try to use a sample to draw conclusions about a population"
   ]
  },
  {
   "cell_type": "markdown",
   "metadata": {},
   "source": [
    "---"
   ]
  },
  {
   "cell_type": "markdown",
   "metadata": {},
   "source": [
    "## Variables in Statistics\n",
    "\n",
    "**Variables**: Properties in data sets with varying values. E.g. all the properties described in the WNBA dataset are variables.\n",
    "\n",
    "**Quantitative variable**: A variable the describes _how much there is of something_.\n",
    "\n",
    "**Qualitative/Categorical variable**: A variable that describes _what_ or _how_ something is.\n",
    "\n",
    "\n",
    "|           -                            | Quantitative Variables | Qualitative Variables |\n",
    "|:--------------------------------------:| ---------------------- | --------------------- |\n",
    "| Describe **quantities**                |          YES           |          **NO**       |\n",
    "| Describe **qualities**                 |          **NO**        |          YES          |\n",
    "| Use **numbers**                        |          YES           |          YES          |\n",
    "| Numbers are <br/>**actual quantities** |          YES           |          **NO**       |\n",
    "| Use **words**                          |          YES           |          YES          |\n",
    "| Words express <br/>a **quantity**      |          YES           |          **NO**       |"
   ]
  },
  {
   "cell_type": "code",
   "execution_count": 65,
   "metadata": {},
   "outputs": [
    {
     "data": {
      "text/html": [
       "<div>\n",
       "<style scoped>\n",
       "    .dataframe tbody tr th:only-of-type {\n",
       "        vertical-align: middle;\n",
       "    }\n",
       "\n",
       "    .dataframe tbody tr th {\n",
       "        vertical-align: top;\n",
       "    }\n",
       "\n",
       "    .dataframe thead th {\n",
       "        text-align: right;\n",
       "    }\n",
       "</style>\n",
       "<table border=\"1\" class=\"dataframe\">\n",
       "  <thead>\n",
       "    <tr style=\"text-align: right;\">\n",
       "      <th></th>\n",
       "      <th>Name</th>\n",
       "      <th>Team</th>\n",
       "      <th>Pos</th>\n",
       "      <th>Height</th>\n",
       "      <th>Weight</th>\n",
       "      <th>BMI</th>\n",
       "      <th>Birth_Place</th>\n",
       "      <th>Birthdate</th>\n",
       "      <th>Age</th>\n",
       "      <th>College</th>\n",
       "      <th>...</th>\n",
       "      <th>OREB</th>\n",
       "      <th>DREB</th>\n",
       "      <th>REB</th>\n",
       "      <th>AST</th>\n",
       "      <th>STL</th>\n",
       "      <th>BLK</th>\n",
       "      <th>TO</th>\n",
       "      <th>PTS</th>\n",
       "      <th>DD2</th>\n",
       "      <th>TD3</th>\n",
       "    </tr>\n",
       "  </thead>\n",
       "  <tbody>\n",
       "    <tr>\n",
       "      <th>0</th>\n",
       "      <td>Aerial Powers</td>\n",
       "      <td>DAL</td>\n",
       "      <td>F</td>\n",
       "      <td>183</td>\n",
       "      <td>71.0</td>\n",
       "      <td>21.200991</td>\n",
       "      <td>US</td>\n",
       "      <td>January 17, 1994</td>\n",
       "      <td>23</td>\n",
       "      <td>Michigan State</td>\n",
       "      <td>...</td>\n",
       "      <td>6</td>\n",
       "      <td>22</td>\n",
       "      <td>28</td>\n",
       "      <td>12</td>\n",
       "      <td>3</td>\n",
       "      <td>6</td>\n",
       "      <td>12</td>\n",
       "      <td>93</td>\n",
       "      <td>0</td>\n",
       "      <td>0</td>\n",
       "    </tr>\n",
       "    <tr>\n",
       "      <th>1</th>\n",
       "      <td>Alana Beard</td>\n",
       "      <td>LA</td>\n",
       "      <td>G/F</td>\n",
       "      <td>185</td>\n",
       "      <td>73.0</td>\n",
       "      <td>21.329438</td>\n",
       "      <td>US</td>\n",
       "      <td>May 14, 1982</td>\n",
       "      <td>35</td>\n",
       "      <td>Duke</td>\n",
       "      <td>...</td>\n",
       "      <td>19</td>\n",
       "      <td>82</td>\n",
       "      <td>101</td>\n",
       "      <td>72</td>\n",
       "      <td>63</td>\n",
       "      <td>13</td>\n",
       "      <td>40</td>\n",
       "      <td>217</td>\n",
       "      <td>0</td>\n",
       "      <td>0</td>\n",
       "    </tr>\n",
       "    <tr>\n",
       "      <th>2</th>\n",
       "      <td>Alex Bentley</td>\n",
       "      <td>CON</td>\n",
       "      <td>G</td>\n",
       "      <td>170</td>\n",
       "      <td>69.0</td>\n",
       "      <td>23.875433</td>\n",
       "      <td>US</td>\n",
       "      <td>October 27, 1990</td>\n",
       "      <td>26</td>\n",
       "      <td>Penn State</td>\n",
       "      <td>...</td>\n",
       "      <td>4</td>\n",
       "      <td>36</td>\n",
       "      <td>40</td>\n",
       "      <td>78</td>\n",
       "      <td>22</td>\n",
       "      <td>3</td>\n",
       "      <td>24</td>\n",
       "      <td>218</td>\n",
       "      <td>0</td>\n",
       "      <td>0</td>\n",
       "    </tr>\n",
       "    <tr>\n",
       "      <th>3</th>\n",
       "      <td>Alex Montgomery</td>\n",
       "      <td>SAN</td>\n",
       "      <td>G/F</td>\n",
       "      <td>185</td>\n",
       "      <td>84.0</td>\n",
       "      <td>24.543462</td>\n",
       "      <td>US</td>\n",
       "      <td>December 11, 1988</td>\n",
       "      <td>28</td>\n",
       "      <td>Georgia Tech</td>\n",
       "      <td>...</td>\n",
       "      <td>35</td>\n",
       "      <td>134</td>\n",
       "      <td>169</td>\n",
       "      <td>65</td>\n",
       "      <td>20</td>\n",
       "      <td>10</td>\n",
       "      <td>38</td>\n",
       "      <td>188</td>\n",
       "      <td>2</td>\n",
       "      <td>0</td>\n",
       "    </tr>\n",
       "    <tr>\n",
       "      <th>4</th>\n",
       "      <td>Alexis Jones</td>\n",
       "      <td>MIN</td>\n",
       "      <td>G</td>\n",
       "      <td>175</td>\n",
       "      <td>78.0</td>\n",
       "      <td>25.469388</td>\n",
       "      <td>US</td>\n",
       "      <td>August 5, 1994</td>\n",
       "      <td>23</td>\n",
       "      <td>Baylor</td>\n",
       "      <td>...</td>\n",
       "      <td>3</td>\n",
       "      <td>9</td>\n",
       "      <td>12</td>\n",
       "      <td>12</td>\n",
       "      <td>7</td>\n",
       "      <td>0</td>\n",
       "      <td>14</td>\n",
       "      <td>50</td>\n",
       "      <td>0</td>\n",
       "      <td>0</td>\n",
       "    </tr>\n",
       "  </tbody>\n",
       "</table>\n",
       "<p>5 rows × 32 columns</p>\n",
       "</div>"
      ],
      "text/plain": [
       "              Name Team  Pos  Height  Weight        BMI Birth_Place  \\\n",
       "0    Aerial Powers  DAL    F     183    71.0  21.200991          US   \n",
       "1      Alana Beard   LA  G/F     185    73.0  21.329438          US   \n",
       "2     Alex Bentley  CON    G     170    69.0  23.875433          US   \n",
       "3  Alex Montgomery  SAN  G/F     185    84.0  24.543462          US   \n",
       "4     Alexis Jones  MIN    G     175    78.0  25.469388          US   \n",
       "\n",
       "           Birthdate  Age         College ...  OREB  DREB  REB  AST  STL  BLK  \\\n",
       "0   January 17, 1994   23  Michigan State ...     6    22   28   12    3    6   \n",
       "1       May 14, 1982   35            Duke ...    19    82  101   72   63   13   \n",
       "2   October 27, 1990   26      Penn State ...     4    36   40   78   22    3   \n",
       "3  December 11, 1988   28    Georgia Tech ...    35   134  169   65   20   10   \n",
       "4     August 5, 1994   23          Baylor ...     3     9   12   12    7    0   \n",
       "\n",
       "   TO  PTS  DD2  TD3  \n",
       "0  12   93    0    0  \n",
       "1  40  217    0    0  \n",
       "2  24  218    0    0  \n",
       "3  38  188    2    0  \n",
       "4  14   50    0    0  \n",
       "\n",
       "[5 rows x 32 columns]"
      ]
     },
     "execution_count": 65,
     "metadata": {},
     "output_type": "execute_result"
    }
   ],
   "source": [
    "wnba.head()"
   ]
  },
  {
   "cell_type": "code",
   "execution_count": 67,
   "metadata": {},
   "outputs": [
    {
     "data": {
      "text/plain": [
       "{'Name': 'qualitative',\n",
       " 'Team': 'qualitative',\n",
       " 'Pos': 'qualitative',\n",
       " 'Height': 'quantitative',\n",
       " 'BMI': 'quantitative',\n",
       " 'Birth_Place': 'qualitative',\n",
       " 'Birthdate': 'quantitative',\n",
       " 'Age': 'quantitative',\n",
       " 'College': 'qualitative',\n",
       " 'Experience': 'quantitative',\n",
       " 'Games Played': 'quantitative',\n",
       " 'MIN': 'quantitative',\n",
       " 'FGM': 'quantitative',\n",
       " 'FGA': 'quantitative',\n",
       " '3PA': 'quantitative',\n",
       " 'FTM': 'quantitative',\n",
       " 'FTA': 'quantitative',\n",
       " 'FT%': 'quantitative',\n",
       " 'OREB': 'quantitative',\n",
       " 'DREB': 'quantitative',\n",
       " 'REB': 'quantitative',\n",
       " 'AST': 'quantitative',\n",
       " 'PTS': 'quantitative'}"
      ]
     },
     "execution_count": 67,
     "metadata": {},
     "output_type": "execute_result"
    }
   ],
   "source": [
    "# quantitative or qualitative variables\n",
    "\n",
    "variables = {'Name': 'qualitative', 'Team': 'qualitative', 'Pos': 'qualitative', 'Height': 'quantitative', 'BMI': 'quantitative',\n",
    "             'Birth_Place': 'qualitative', 'Birthdate': 'quantitative', 'Age': 'quantitative', 'College': 'qualitative', 'Experience': 'quantitative',\n",
    "             'Games Played': 'quantitative', 'MIN': 'quantitative', 'FGM': 'quantitative', 'FGA': 'quantitative',\n",
    "             '3PA': 'quantitative', 'FTM': 'quantitative', 'FTA': 'quantitative', 'FT%': 'quantitative', 'OREB': 'quantitative', 'DREB': 'quantitative',\n",
    "             'REB': 'quantitative', 'AST': 'quantitative', 'PTS': 'quantitative'}\n",
    "\n",
    "variables"
   ]
  },
  {
   "cell_type": "markdown",
   "metadata": {},
   "source": [
    "### Scales of Measurement\n",
    "\n",
    "**Scales of measurement**: The system of rules that defines how each variable is measured.\n",
    "\n",
    "The characteristics of each scale pivot around 3 main questions:\n",
    "\n",
    "1. Can we tell whether two individuals are different?\n",
    "2. Can we tell the direction of the difference?\n",
    "3. Can we tell the size of the difference?\n",
    "\n",
    "\n",
    "_Types_:\n",
    "\n",
    "- **Nominal**: A scale where we can tell whether two individuals are different\n",
    "- **Ordinal**: A scale where we can tell whether two individuals are different along with the direction of the difference, but not the size of the difference\n",
    "- **Interval**: A scale where we can tell whether two individuals are different, the direction of the difference and the size of the difference\n",
    "- **Ratio**: A scale where we can tell whether two individuals are different, the direction of the difference and the size of the difference\n",
    "\n",
    "\n",
    "_Ratio vs Interval_\n",
    "\n",
    "- On a ratio scale, a zero point means no quantity. E.g. `Weight` variable is measured on a ratio scale, so 0 grams indicates absence of weight\n",
    "- On an interval scale, zero point doesn't indicate the absence of a quantity. E.g. if we calculate `Weight deviation`, a value of 0 would indicate the player has the same weight as the average of the group\n",
    "- On a ratio scale, the difference can be quantified in two ways:\n",
    "    - measure the _distance_ via subtraction\n",
    "    - measure via _ratios_\n",
    "\n",
    "\n",
    "|           -                                        | Interval | Ratio  |\n",
    "|:--------------------------------------------------:| -------- | -----  |\n",
    "| Well-defined **intervals**                         | YES      | YES    |\n",
    "| **0 point** indicates <br/>**absence of quantity** | **No**   | YES    |\n",
    "| Difference measured <br/>in **distance**           | YES      | YES    |\n",
    "| Difference  measured <br/>in **ratios**            | **No**   | YES    |\n",
    "\n",
    "\n",
    "**Summary**:\n",
    "\n",
    "|           -                             | Nominal | Ordinal | Interval | Ratio  |\n",
    "|:---------------------------------------:| ------- | ------- | -------- | -----  |\n",
    "| Whether 2 individuals are **different** | YES     | YES     | YES      | YES    |\n",
    "| **Direction** of the difference         | **NO**  | YES     | YES      | YES    |\n",
    "| **Size** of the difference              | **NO**  | **NO**  | YES      | YES    |\n",
    "| Measure **quantitative** variables      | **NO**  | YES     | YES      | YES    |\n",
    "| Measure **qualitative** variables       | YES     | **NO**  | **NO**   | **NO** |\n"
   ]
  },
  {
   "cell_type": "code",
   "execution_count": 68,
   "metadata": {},
   "outputs": [],
   "source": [
    "# Variable Scales of Measurements\n",
    "\n",
    "nominal_scale = ['Name', 'Team', 'Pos', 'Birth_Place', 'College']\n",
    "\n",
    "interval = sorted(['Weight_deviation', 'Birthdate'])\n",
    "\n",
    "ratio = sorted(['Height', 'Weight', 'BMI', 'Age', 'Experience', 'Games Played', \n",
    "                'MIN', 'FGM', 'FGA', '15:00', '3PA', 'FTM', 'FTA', 'OREB', 'DREB', \n",
    "                'REB', 'AST', 'STL', 'BLK', 'TO', 'PTS', 'DD2', 'TD3', 'FG%', '3P%', 'FT%'])\n"
   ]
  },
  {
   "cell_type": "markdown",
   "metadata": {},
   "source": [
    "### Discrete and Continuous Variables\n",
    "\n",
    "**Discrete**: A variable where there is no possible intermediate value between any two adjacent values\n",
    "\n",
    "**Continuous**: A variable where there is an infinity of values between any two values"
   ]
  },
  {
   "cell_type": "code",
   "execution_count": 69,
   "metadata": {},
   "outputs": [
    {
     "data": {
      "text/plain": [
       "{'Height': 'continuous',\n",
       " 'Weight': 'continuous',\n",
       " 'BMI': 'continuous',\n",
       " 'Age': 'continuous',\n",
       " 'Games Played': 'discrete',\n",
       " 'MIN': 'continuous',\n",
       " 'FGM': 'discrete',\n",
       " 'FGA': 'discrete',\n",
       " 'FG%': 'continuous',\n",
       " '3PA': 'discrete',\n",
       " '3P%': 'continuous',\n",
       " 'FTM': 'discrete',\n",
       " 'FTA': 'discrete',\n",
       " 'FT%': 'continuous',\n",
       " 'OREB': 'discrete',\n",
       " 'DREB': 'discrete',\n",
       " 'REB': 'discrete',\n",
       " 'AST': 'discrete',\n",
       " 'STL': 'discrete',\n",
       " 'BLK': 'discrete',\n",
       " 'TO': 'discrete',\n",
       " 'PTS': 'discrete',\n",
       " 'DD2': 'discrete',\n",
       " 'TD3': 'discrete',\n",
       " 'Weight_deviation': 'continuous'}"
      ]
     },
     "execution_count": 69,
     "metadata": {},
     "output_type": "execute_result"
    }
   ],
   "source": [
    "ratio_interval_only = {'Height':'continuous', 'Weight': 'continuous', 'BMI': 'continuous', 'Age': 'continuous', 'Games Played': 'discrete', 'MIN': 'continuous', 'FGM': 'discrete',\n",
    "                       'FGA': 'discrete', 'FG%': 'continuous', '3PA': 'discrete', '3P%': 'continuous', 'FTM': 'discrete', 'FTA': 'discrete', 'FT%': 'continuous',\n",
    "                       'OREB': 'discrete', 'DREB': 'discrete', 'REB': 'discrete', 'AST': 'discrete', 'STL': 'discrete', 'BLK': 'discrete', 'TO': 'discrete',\n",
    "                       'PTS': 'discrete', 'DD2': 'discrete', 'TD3': 'discrete', 'Weight_deviation': 'continuous'}\n",
    "\n",
    "ratio_interval_only"
   ]
  },
  {
   "cell_type": "markdown",
   "metadata": {},
   "source": [
    "---"
   ]
  },
  {
   "cell_type": "markdown",
   "metadata": {},
   "source": [
    "## Frequency Distributions\n",
    "\n",
    "**Frequency distribution table**: A table which shows how _frequencies are distributed_, thus serving as a way to simplify the data for us.\n",
    "\n",
    "Use the [`Series.value_counts()`](http://pandas.pydata.org/pandas-docs/stable/generated/pandas.Series.value_counts.html?highlight=value_counts#pandas.Series.value_counts) method to generate a frequency distribution table."
   ]
  },
  {
   "cell_type": "code",
   "execution_count": 71,
   "metadata": {},
   "outputs": [
    {
     "name": "stdout",
     "output_type": "stream",
     "text": [
      "Position Frequency Table:\n",
      "G      60\n",
      "F      33\n",
      "C      25\n",
      "G/F    13\n",
      "F/C    12\n",
      "Name: Pos, dtype: int64\n",
      "\n",
      "Height Frequency Table:\n",
      "188    20\n",
      "193    18\n",
      "175    16\n",
      "185    15\n",
      "191    11\n",
      "183    11\n",
      "173    11\n",
      "196     9\n",
      "178     8\n",
      "180     7\n",
      "170     6\n",
      "198     5\n",
      "201     2\n",
      "168     2\n",
      "206     1\n",
      "165     1\n",
      "Name: Height, dtype: int64\n"
     ]
    }
   ],
   "source": [
    "print('Position Frequency Table:')\n",
    "print(wnba['Pos'].value_counts())\n",
    "\n",
    "print('\\nHeight Frequency Table:')\n",
    "print(wnba['Height'].value_counts())"
   ]
  },
  {
   "cell_type": "markdown",
   "metadata": {},
   "source": [
    "### Sorting Frequency Distribution Tables"
   ]
  },
  {
   "cell_type": "code",
   "execution_count": 72,
   "metadata": {},
   "outputs": [
    {
     "name": "stdout",
     "output_type": "stream",
     "text": [
      "Age Ascending Frequency Table:\n",
      "21     2\n",
      "22    10\n",
      "23    15\n",
      "24    16\n",
      "25    15\n",
      "26    12\n",
      "27    13\n",
      "28    14\n",
      "29     8\n",
      "30     9\n",
      "31     8\n",
      "32     8\n",
      "33     3\n",
      "34     5\n",
      "35     4\n",
      "36     1\n",
      "Name: Age, dtype: int64\n",
      "\n",
      "Age Descending Frequency Table:\n",
      "36     1\n",
      "35     4\n",
      "34     5\n",
      "33     3\n",
      "32     8\n",
      "31     8\n",
      "30     9\n",
      "29     8\n",
      "28    14\n",
      "27    13\n",
      "26    12\n",
      "25    15\n",
      "24    16\n",
      "23    15\n",
      "22    10\n",
      "21     2\n",
      "Name: Age, dtype: int64\n"
     ]
    }
   ],
   "source": [
    "# sort the table by index\n",
    "\n",
    "print('Age Ascending Frequency Table:')\n",
    "print(wnba['Age'].value_counts().sort_index())\n",
    "\n",
    "print('\\nAge Descending Frequency Table:')\n",
    "print(wnba['Age'].value_counts().sort_index(ascending=False))"
   ]
  },
  {
   "cell_type": "markdown",
   "metadata": {},
   "source": [
    "**Observations**:\n",
    "\n",
    "- Most players are 22 - 28 years old\n",
    "- No one is younger than 21 years old\n",
    "- There are a few players older than 30 years old"
   ]
  },
  {
   "cell_type": "markdown",
   "metadata": {},
   "source": [
    "### Sorting Table for Ordinal Values\n",
    "\n",
    "Use `iloc[]` to re-order by position."
   ]
  },
  {
   "cell_type": "code",
   "execution_count": 73,
   "metadata": {},
   "outputs": [],
   "source": [
    "second_wnba = wnba.copy()"
   ]
  },
  {
   "cell_type": "code",
   "execution_count": 76,
   "metadata": {},
   "outputs": [
    {
     "name": "stdout",
     "output_type": "stream",
     "text": [
      "Frequency table ordered by unique values in descending order:\n",
      "much more than average      13\n",
      "more than average           21\n",
      "average number of points    45\n",
      "many, but below average     25\n",
      "few points                  27\n",
      "very few points             12\n",
      "Name: PTS_ordinal_scale, dtype: int64\n"
     ]
    }
   ],
   "source": [
    "def make_pts_ordinal(row):\n",
    "    if row['PTS'] <= 20:\n",
    "        return 'very few points'\n",
    "    if (20 < row['PTS'] <=  80):\n",
    "        return 'few points'\n",
    "    if (80 < row['PTS'] <=  150):\n",
    "        return 'many, but below average'\n",
    "    if (150 < row['PTS'] <= 300):\n",
    "        return 'average number of points'\n",
    "    if (300 < row['PTS'] <=  450):\n",
    "        return 'more than average'\n",
    "    else:\n",
    "        return 'much more than average'\n",
    "    \n",
    "second_wnba['PTS_ordinal_scale'] = second_wnba.apply(make_pts_ordinal, axis = 1)\n",
    "\n",
    "print('Frequency table ordered by unique values in descending order:')\n",
    "\n",
    "pts_ordinal_desc = second_wnba['PTS_ordinal_scale'].value_counts().iloc[[4, 3, 0, 2, 1, 5]]\n",
    "print(pts_ordinal_desc)"
   ]
  },
  {
   "cell_type": "markdown",
   "metadata": {},
   "source": [
    "### Proportions and Percentages\n",
    "\n",
    "When analyzing distributions, we are often interested in answering questions about **proportions** and **percentages**.\n",
    "\n",
    "- What _proportion_ of players are guards?\n",
    "- What _percentage_ of players are centers?\n",
    "- What _percentage_ of players have mixed positions?\n",
    "\n"
   ]
  }
 ],
 "metadata": {
  "kernelspec": {
   "display_name": "Python 3",
   "language": "python",
   "name": "python3"
  },
  "language_info": {
   "codemirror_mode": {
    "name": "ipython",
    "version": 3
   },
   "file_extension": ".py",
   "mimetype": "text/x-python",
   "name": "python",
   "nbconvert_exporter": "python",
   "pygments_lexer": "ipython3",
   "version": "3.7.1"
  }
 },
 "nbformat": 4,
 "nbformat_minor": 2
}
